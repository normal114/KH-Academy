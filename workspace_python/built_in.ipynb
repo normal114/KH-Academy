{
 "cells": [
  {
   "cell_type": "code",
   "execution_count": 6,
   "metadata": {},
   "outputs": [
    {
     "name": "stdout",
     "output_type": "stream",
     "text": [
      "1\n",
      "0\n",
      "12\n",
      "56\n",
      "15\n",
      "63\n",
      "255\n",
      "3.0\n",
      "a:100\n"
     ]
    }
   ],
   "source": [
    "# int()\n",
    "print(int(True))\n",
    "print(int(False))\n",
    "print(int(12.34))\n",
    "print(int('56'))\n",
    "\n",
    "# 2진수, 8진수, 16진수\n",
    "print(int('1111', 2))\n",
    "print(int('77', 8))\n",
    "print(int('ff', 16))\n",
    "\n",
    "# float()\n",
    "print(float('3'))\n",
    "\n",
    "# str()\n",
    "a = 100\n",
    "# print('a:' + a)\n",
    "print('a:' + str(a))"
   ]
  },
  {
   "cell_type": "code",
   "execution_count": null,
   "metadata": {},
   "outputs": [],
   "source": []
  }
 ],
 "metadata": {
  "kernelspec": {
   "display_name": "Python 3",
   "language": "python",
   "name": "python3"
  },
  "language_info": {
   "codemirror_mode": {
    "name": "ipython",
    "version": 3
   },
   "file_extension": ".py",
   "mimetype": "text/x-python",
   "name": "python",
   "nbconvert_exporter": "python",
   "pygments_lexer": "ipython3",
   "version": "3.8.5"
  }
 },
 "nbformat": 4,
 "nbformat_minor": 4
}
