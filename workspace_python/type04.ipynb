{
 "cells": [
  {
   "cell_type": "code",
   "execution_count": 10,
   "metadata": {},
   "outputs": [
    {
     "name": "stdout",
     "output_type": "stream",
     "text": [
      "()\n",
      "(1, 2, '3')\n",
      "(1, 2, 3, 4, 5)\n",
      "(3, 4, 5)\n",
      "(1, 2, 3, 4, 5, 3, 4, 5)\n",
      "[3, 4, 5]\n",
      "[3, 4, 5, 6]\n",
      "(3, 4, 5, 6)\n",
      "3\n",
      "4\n",
      "5\n",
      "6\n"
     ]
    }
   ],
   "source": [
    "# tuple : ()\n",
    "# 수정 불가능한 list\n",
    "\n",
    "# 생성자\n",
    "a = tuple()\n",
    "print(a)\n",
    "# a.append(1)\n",
    "# print(a)\n",
    "b = tuple([1, 2, '3'])\n",
    "print(b)\n",
    "\n",
    "# () 사용\n",
    "c = (1, 2, 3, 4, 5)\n",
    "print(c)\n",
    "# c[1] = 'two'\n",
    "# print(c)\n",
    "\n",
    "d = tuple(range(3, 6))\n",
    "print(d)\n",
    "print(c + d)\n",
    "\n",
    "# tuple을 list로\n",
    "e = list(d)\n",
    "print(e)\n",
    "e.append(6)\n",
    "print(e)\n",
    "# list를 tuple\n",
    "f = tuple(e)\n",
    "print(f)\n",
    "# f.append(6)\n",
    "# print(f)\n",
    "\n",
    "# unpacking\n",
    "g, h, i, j = f\n",
    "print(g)\n",
    "print(h)\n",
    "print(i)\n",
    "print(j)"
   ]
  },
  {
   "cell_type": "code",
   "execution_count": null,
   "metadata": {},
   "outputs": [],
   "source": []
  }
 ],
 "metadata": {
  "kernelspec": {
   "display_name": "Python 3",
   "language": "python",
   "name": "python3"
  },
  "language_info": {
   "codemirror_mode": {
    "name": "ipython",
    "version": 3
   },
   "file_extension": ".py",
   "mimetype": "text/x-python",
   "name": "python",
   "nbconvert_exporter": "python",
   "pygments_lexer": "ipython3",
   "version": "3.8.5"
  }
 },
 "nbformat": 4,
 "nbformat_minor": 4
}
