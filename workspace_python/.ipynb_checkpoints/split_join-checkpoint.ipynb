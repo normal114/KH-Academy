{
 "cells": [
  {
   "cell_type": "code",
   "execution_count": 6,
   "metadata": {},
   "outputs": [
    {
     "name": "stdout",
     "output_type": "stream",
     "text": [
      "Hello, World\n",
      "Hello, Python!\n",
      "['Hello,', 'World\\nHello,', 'Python!']\n",
      "['Hello, World', 'Hello, Python!']\n",
      "['Hello,', 'World\\nHello, Python!']\n",
      "['Hello', '', 'World', 'Hello', '', 'Python!']\n"
     ]
    }
   ],
   "source": [
    "# split\n",
    "str01 = 'Hello, World\\nHello, Python!'\n",
    "print(str01)\n",
    "\n",
    "arr01 = str01.split(' ')\n",
    "print(arr01)\n",
    "\n",
    "arr02 = str01.split('\\n')\n",
    "print(arr02)\n",
    "\n",
    "arr03 = str01.split(' ', 1)\n",
    "print(arr03)\n",
    "\n",
    "import re\n",
    "\n",
    "arr04 = re.split('[\\s]|[,]', str01)\n",
    "print(arr04)\n",
    "\n",
    "# join\n",
    "arr05 = ['1', '2', '3', '4']\n",
    "print(arr05)\n",
    "print('+'.join(arr05))\n",
    "print(eval('+'.join(arr05)))"
   ]
  }
 ],
 "metadata": {
  "kernelspec": {
   "display_name": "Python 3",
   "language": "python",
   "name": "python3"
  },
  "language_info": {
   "codemirror_mode": {
    "name": "ipython",
    "version": 3
   },
   "file_extension": ".py",
   "mimetype": "text/x-python",
   "name": "python",
   "nbconvert_exporter": "python",
   "pygments_lexer": "ipython3",
   "version": "3.8.5"
  }
 },
 "nbformat": 4,
 "nbformat_minor": 4
}
