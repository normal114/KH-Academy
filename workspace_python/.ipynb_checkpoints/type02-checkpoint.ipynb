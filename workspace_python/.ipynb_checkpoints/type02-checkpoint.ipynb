{
 "cells": [
  {
   "cell_type": "code",
   "execution_count": 1,
   "metadata": {
    "scrolled": true
   },
   "outputs": [
    {
     "ename": "SyntaxError",
     "evalue": "invalid syntax (<ipython-input-1-05af01c63d2e>, line 5)",
     "output_type": "error",
     "traceback": [
      "\u001b[0;36m  File \u001b[0;32m\"<ipython-input-1-05af01c63d2e>\"\u001b[0;36m, line \u001b[0;32m5\u001b[0m\n\u001b[0;31m    a = 'python's hello, world!'\u001b[0m\n\u001b[0m                ^\u001b[0m\n\u001b[0;31mSyntaxError\u001b[0m\u001b[0;31m:\u001b[0m invalid syntax\n"
     ]
    }
   ],
   "source": [
    "# 문자\n",
    "# single quotation 과 double quotation은 차이 없음\n",
    "\n",
    "# single * 1\n",
    "a = 'python\\'s hello, world!'\n",
    "print(a)\n",
    "\n",
    "# single * 3\n",
    "b = '''python's\n",
    "hello, world!\n",
    "                hello, python!!\n",
    "\n",
    "'''\n",
    "print(b)\n",
    "\n",
    "# double * 1\n",
    "c = \"Hello, \\\"World!\\\"\"\n",
    "print(c)\n",
    "\n",
    "#double * 3\n",
    "d = \"\"\"\n",
    "abc\n",
    "def\n",
    "\"ghi\"\n",
    "\"\"\"\n",
    "print(d)\n",
    "\n",
    "# 혼합\n",
    "e = 'abc\"def\"ghi\\npython\\'s string'\n",
    "print(e)\n",
    "f = \"abc'def'ghi\\ttest\"\n",
    "print(f)\n",
    "# r : raw string(\\를 문자로 인식)\n",
    "g = r\"\\workspaces\\workspace_python\"\n",
    "h = \"\\workspaces\\workspace_python\"\n",
    "print(g)\n",
    "print(h)\n",
    "\n",
    "# 문자열 더하기, 곱하기\n",
    "str01 = 'hello,'\n",
    "str02 = 'python!'\n",
    "print(str01 + str02)\n",
    "print(str01 * 3 + str02)"
   ]
  }
 ],
 "metadata": {
  "kernelspec": {
   "display_name": "Python 3",
   "language": "python",
   "name": "python3"
  },
  "language_info": {
   "codemirror_mode": {
    "name": "ipython",
    "version": 3
   },
   "file_extension": ".py",
   "mimetype": "text/x-python",
   "name": "python",
   "nbconvert_exporter": "python",
   "pygments_lexer": "ipython3",
   "version": "3.8.5"
  }
 },
 "nbformat": 4,
 "nbformat_minor": 4
}
