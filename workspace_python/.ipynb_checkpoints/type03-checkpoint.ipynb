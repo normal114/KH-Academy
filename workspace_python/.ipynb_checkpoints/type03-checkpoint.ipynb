{
 "cells": [
  {
   "cell_type": "code",
   "execution_count": 2,
   "metadata": {},
   "outputs": [
    {
     "name": "stdout",
     "output_type": "stream",
     "text": [
      "[]\n",
      "[1]\n",
      "[1, 'one']\n",
      "[1, 'two']\n",
      "[1, 'two', 3]\n",
      "[1, 2, 3, 4, 5]\n",
      "6\n",
      "[5, 4, 3, 2, 1]\n",
      "[1, 2, 3, 4, 5]\n",
      "['a', 'b', 'c', ['d', 'e', 'f']]\n",
      "f\n",
      "[1, 2, 3, 4, 5, 'a', 'b', 'c', ['d', 'e', 'f']]\n"
     ]
    }
   ],
   "source": [
    "# list\n",
    "\n",
    "# 생성자\n",
    "a = list()\n",
    "print(a)\n",
    "a.append(1)\n",
    "print(a)\n",
    "a.append('one')\n",
    "print(a)\n",
    "a[1] = 'two'\n",
    "print(a)\n",
    "\n",
    "# a[2] = 3\n",
    "# print(a)\n",
    "\n",
    "# [] 사용\n",
    "b = [1, 2, 3, 4, 5]\n",
    "print(b)\n",
    "print(b[0] + b[4])\n",
    "\n",
    "b.reverse()\n",
    "print(b)\n",
    "\n",
    "b.sort()\n",
    "print(b)\n",
    "\n",
    "# 중첩\n",
    "c = ['a', 'b', 'c', ['d', 'e', 'f']]\n",
    "print(c)\n",
    "\n",
    "print(c[3][2])\n",
    "\n",
    "print(b + c)"
   ]
  },
  {
   "cell_type": "code",
   "execution_count": null,
   "metadata": {},
   "outputs": [],
   "source": []
  }
 ],
 "metadata": {
  "kernelspec": {
   "display_name": "Python 3",
   "language": "python",
   "name": "python3"
  },
  "language_info": {
   "codemirror_mode": {
    "name": "ipython",
    "version": 3
   },
   "file_extension": ".py",
   "mimetype": "text/x-python",
   "name": "python",
   "nbconvert_exporter": "python",
   "pygments_lexer": "ipython3",
   "version": "3.8.5"
  }
 },
 "nbformat": 4,
 "nbformat_minor": 4
}
