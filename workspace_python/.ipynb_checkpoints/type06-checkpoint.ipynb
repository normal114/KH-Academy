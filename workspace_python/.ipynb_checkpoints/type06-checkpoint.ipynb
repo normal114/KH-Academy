{
 "cells": [
  {
   "cell_type": "code",
   "execution_count": 8,
   "metadata": {},
   "outputs": [
    {
     "name": "stdout",
     "output_type": "stream",
     "text": [
      "{1: 1, 2: 2}\n",
      "{'one': 1, '2': 'this is two', 3: 3}\n",
      "{'one': 1, '2': 'this is two', 3: 1}\n",
      "1\n",
      "1\n",
      "1\n",
      "dict_keys(['one', '2', 3])\n",
      "dict_values([1, 'this is two', 1])\n"
     ]
    }
   ],
   "source": [
    "# dictionary : {}\n",
    "\n",
    "# 생성자\n",
    "dict01 = dict()\n",
    "dict01[1] = 1\n",
    "dict01[2] = 2\n",
    "print(dict01)\n",
    "\n",
    "# {} 사용\n",
    "dict02 = {}\n",
    "dict02['one'] = 1\n",
    "dict02['2'] = 'this is two'\n",
    "dict02[3] = 3\n",
    "print(dict02)\n",
    "\n",
    "dict02[3] = 1\n",
    "print(dict02)\n",
    "\n",
    "# key / value 가져오기\n",
    "print(dict01.get(1))\n",
    "print(dict02.get('one'))\n",
    "print(dict02['one'])\n",
    "\n",
    "print(dict02.keys())\n",
    "print(dict02.values())\n",
    "\n",
    "print(list(dict02.values())[1])\n",
    "\n",
    "\n"
   ]
  },
  {
   "cell_type": "code",
   "execution_count": null,
   "metadata": {},
   "outputs": [],
   "source": []
  }
 ],
 "metadata": {
  "kernelspec": {
   "display_name": "Python 3",
   "language": "python",
   "name": "python3"
  },
  "language_info": {
   "codemirror_mode": {
    "name": "ipython",
    "version": 3
   },
   "file_extension": ".py",
   "mimetype": "text/x-python",
   "name": "python",
   "nbconvert_exporter": "python",
   "pygments_lexer": "ipython3",
   "version": "3.8.5"
  }
 },
 "nbformat": 4,
 "nbformat_minor": 4
}
