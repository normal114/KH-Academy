{
 "cells": [
  {
   "cell_type": "code",
   "execution_count": 4,
   "metadata": {},
   "outputs": [
    {
     "name": "stdout",
     "output_type": "stream",
     "text": [
      "100\n",
      "<class 'int'>\n",
      "100.1\n",
      "<class 'float'>\n",
      "15\n",
      "63\n",
      "255\n"
     ]
    }
   ],
   "source": [
    "# number : 숫자\n",
    "\n",
    "# 정수형\n",
    "a = 100\n",
    "print(a)\n",
    "print(type(a))\n",
    "\n",
    "# 실수형\n",
    "b = 100.1\n",
    "print(b)\n",
    "print(type(b))\n",
    "\n",
    "# 2진수(0b), 8진수(0o), 16진수(0x) 바이너리, 옥타, 헥사\n",
    "c = 0b1111\n",
    "print(c)\n",
    "d = 0o77\n",
    "print(d)\n",
    "e = 0xff\n",
    "print(e)\n"
   ]
  },
  {
   "cell_type": "code",
   "execution_count": null,
   "metadata": {},
   "outputs": [],
   "source": []
  }
 ],
 "metadata": {
  "kernelspec": {
   "display_name": "Python 3",
   "language": "python",
   "name": "python3"
  },
  "language_info": {
   "codemirror_mode": {
    "name": "ipython",
    "version": 3
   },
   "file_extension": ".py",
   "mimetype": "text/x-python",
   "name": "python",
   "nbconvert_exporter": "python",
   "pygments_lexer": "ipython3",
   "version": "3.8.5"
  }
 },
 "nbformat": 4,
 "nbformat_minor": 4
}
