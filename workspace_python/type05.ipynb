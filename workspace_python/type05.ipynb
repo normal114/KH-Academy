{
 "cells": [
  {
   "cell_type": "code",
   "execution_count": 7,
   "metadata": {},
   "outputs": [
    {
     "name": "stdout",
     "output_type": "stream",
     "text": [
      "{'3', '1', '4', '2'}\n",
      "{'h', 'e', 'l', 'o'}\n",
      "{'1', 'a', 'b', 'hello', '3', 'c', '2'}\n",
      "{'1', 'a', 'world', 'b', 'hello', '3', 'c', '2'}\n",
      "{'l', '1', 'e', '3', '4', '2', 'o', 'h'}\n",
      "{'l', '1', 'e', '3', '4', '2', 'o', 'h'}\n",
      "{'3', '1', '2'}\n",
      "{'3', '1', '2'}\n"
     ]
    }
   ],
   "source": [
    "# set (집합)\n",
    "\n",
    "# 생성자\n",
    "a = set(['1', '2', '3', '4', '4'])\n",
    "print(a)\n",
    "\n",
    "# 생성자에 iterable한 객체를 넣으면 set의 값으로 변환\n",
    "b = set('hello')\n",
    "print(b)\n",
    "\n",
    "# {} 사용\n",
    "c = {'a', 'b', 'c', 'hello', '1', '2', '3'}\n",
    "print(c)\n",
    "\n",
    "c.add('world')\n",
    "print(c)\n",
    "\n",
    "# 합집합, 교집합\n",
    "print(a.union(b))\n",
    "print(a | b)\n",
    "\n",
    "print(a.intersection(c))\n",
    "print(a & c)"
   ]
  },
  {
   "cell_type": "code",
   "execution_count": null,
   "metadata": {},
   "outputs": [],
   "source": []
  }
 ],
 "metadata": {
  "kernelspec": {
   "display_name": "Python 3",
   "language": "python",
   "name": "python3"
  },
  "language_info": {
   "codemirror_mode": {
    "name": "ipython",
    "version": 3
   },
   "file_extension": ".py",
   "mimetype": "text/x-python",
   "name": "python",
   "nbconvert_exporter": "python",
   "pygments_lexer": "ipython3",
   "version": "3.8.5"
  }
 },
 "nbformat": 4,
 "nbformat_minor": 4
}
