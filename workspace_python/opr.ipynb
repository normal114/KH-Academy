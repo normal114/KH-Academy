{
 "cells": [
  {
   "cell_type": "code",
   "execution_count": 1,
   "metadata": {},
   "outputs": [
    {
     "name": "stdout",
     "output_type": "stream",
     "text": [
      "23\n",
      "19\n",
      "42\n",
      "441\n",
      "10.5\n",
      "10\n",
      "1\n",
      "False\n",
      "True\n",
      "True\n",
      "True\n",
      "False\n",
      "True\n",
      "[0, 1, 2, 3, 4, 5, 6, 7, 8, 9, 10, 11, 12, 13, 14, 15, 16, 17, 18, 19, 20, 21, 22, 23, 24, 25, 26, 27, 28, 29, 30, 31, 32, 33, 34, 35, 36, 37, 38, 39, 40, 41, 42, 43, 44, 45, 46, 47, 48, 49, 50, 51, 52, 53, 54, 55, 56, 57, 58, 59, 60, 61, 62, 63, 64, 65, 66, 67, 68, 69, 70, 71, 72, 73, 74, 75, 76, 77, 78, 79, 80, 81, 82, 83, 84, 85, 86, 87, 88, 89, 90, 91, 92, 93, 94, 95, 96, 97, 98, 99]\n",
      "[12, 13, 14, 15, 16, 17, 18, 19, 20, 21, 22, 23, 24, 25, 26, 27, 28, 29, 30, 31, 32, 33, 34, 35, 36, 37, 38, 39, 40, 41, 42, 43, 44, 45, 46, 47, 48]\n",
      "[12, 15, 18, 21, 24, 27, 30, 33, 36, 39, 42, 45, 48]\n",
      "H\n",
      "Hello\n",
      "World\n",
      "World!\n",
      "!\n",
      "!\n",
      "\n",
      "Hello World\n",
      "!dlroW olleH\n",
      "True\n",
      "False\n",
      "True\n"
     ]
    }
   ],
   "source": [
    "# 산술연산\n",
    "a = 21\n",
    "b = 2\n",
    "print(a + b)\n",
    "print(a - b)\n",
    "print(a * b)\n",
    "print(a ** b)   # a의 b승(21의 2 제곱)\n",
    "print(a / b)\n",
    "print(a // b)   # 몫 (floor division) : 소수점 이하는 버린다\n",
    "print(a % b)\n",
    "\n",
    "# 비교연산\n",
    "a, b = 5, 3\n",
    "print(a == b)\n",
    "print(a != b)\n",
    "print(a > b)\n",
    "print(a >= b)\n",
    "print(a is b)\n",
    "print(a is not b)\n",
    "\n",
    "# 범위연산\n",
    "list01 = list(range(100))    # 0 ~ 99\n",
    "print(list01)\n",
    "\n",
    "# [start: end] -> start ~ end-1\n",
    "# [start: end: step] -> start ~ end-1까지 step만큼씩\n",
    "print(list01[12: 49])\n",
    "print(list01[12: 49: 3])\n",
    "\n",
    "start01 = 'Hello World!'\n",
    "print(start01[0])\n",
    "print(start01[0: 5])\n",
    "print(start01[6: 11])\n",
    "print(start01[6: ])     # 비어있는 공간은 끝까지 출력하라는 명령어이다\n",
    "\n",
    "# -1\n",
    "print(start01[-1])      # -는 끝에서부터 거꾸로 찾는다\n",
    "print(start01[-1:])     # -1과 같다\n",
    "print(start01[-1: 3])\n",
    "print(start01[: -1])    # 끝에서 -1 앞까지 출력한다\n",
    "print(start01[:: -1])   # 역순이다\n",
    "\n",
    "# in, not in\n",
    "start02 = [1, 2, 3, 4, 5, 6]\n",
    "print(3 in start02)\n",
    "print(6 not in start02)\n",
    "print(9 not in start02)"
   ]
  },
  {
   "cell_type": "code",
   "execution_count": null,
   "metadata": {},
   "outputs": [],
   "source": []
  }
 ],
 "metadata": {
  "kernelspec": {
   "display_name": "Python 3",
   "language": "python",
   "name": "python3"
  },
  "language_info": {
   "codemirror_mode": {
    "name": "ipython",
    "version": 3
   },
   "file_extension": ".py",
   "mimetype": "text/x-python",
   "name": "python",
   "nbconvert_exporter": "python",
   "pygments_lexer": "ipython3",
   "version": "3.8.5"
  }
 },
 "nbformat": 4,
 "nbformat_minor": 4
}
