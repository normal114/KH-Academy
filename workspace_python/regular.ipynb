{
 "cells": [
  {
   "cell_type": "code",
   "execution_count": 2,
   "metadata": {},
   "outputs": [
    {
     "name": "stdout",
     "output_type": "stream",
     "text": [
      "123@kh.com\n",
      "kh.123@kh.com\n"
     ]
    }
   ],
   "source": [
    "'''\n",
    "Regular Expression\n",
    ".  : 문자 1개\n",
    "^  : 문자열의 시작\n",
    "$  : 문자열의 마지막\n",
    "[] : 문자열 집합\n",
    "|  : or\n",
    "() : 괄호 안의 정규식 그룹\n",
    "\n",
    "*  : 0 or more\n",
    "+  : 1 or more\n",
    "?  : 0 or 1\n",
    "{n} : n번 반복\n",
    "{n, m} : n번 부터 m번\n",
    "{n, } : n번 부터 무한대\n",
    "'''\n",
    "\n",
    "\"\"\" = '''과 같다\n",
    "r 문자열 표기법(re 모듈 확장 문법)\n",
    "\\w : [a-zA-Z0-9_] -> a~Z, 0~9, _포함하는 모든 문자\n",
    "\\W : [^a-zA-Z0-9_] -> 위의 문자 제외한 나머지 문자\n",
    "\\d : [0-9] -> 0~9까지 모든 숫자\n",
    "\\D : [^0-9] -> 숫자를 제외한 나머지 문자\n",
    "\\s : [\\t\\n\\r\\f\\v] -> 공백문자\n",
    "\\S : [^\\t\\n\\r\\f\\v] -> 공백을 제외한 모든 문자\n",
    "\\b : 단어의 시작과 끝의 빈 공백\n",
    "\\B : 단어의 시작과 끝이 아닌 빈 공백\n",
    "\\\\ : \\\n",
    "\\[숫자] : 지정된 숫자만큼 일치하는 문자열\n",
    "\\A : 문자열의 시작\n",
    "\\Z : 문자열의 끝\n",
    "\"\"\"\n",
    "\n",
    "import re\n",
    "\n",
    "str01 = '나의 이메일은 kh.123@kh.com123 입니다.'\n",
    "match = re.search(r'[\\w]*@[a-zA-Z.]*', str01)\n",
    "print(match.group())\n",
    "match01 = re.search(r'[\\w.\\w]*@[a-zA-Z.]*', str01)\n",
    "print(match01.group())"
   ]
  },
  {
   "cell_type": "code",
   "execution_count": null,
   "metadata": {},
   "outputs": [],
   "source": []
  }
 ],
 "metadata": {
  "kernelspec": {
   "display_name": "Python 3",
   "language": "python",
   "name": "python3"
  },
  "language_info": {
   "codemirror_mode": {
    "name": "ipython",
    "version": 3
   },
   "file_extension": ".py",
   "mimetype": "text/x-python",
   "name": "python",
   "nbconvert_exporter": "python",
   "pygments_lexer": "ipython3",
   "version": "3.8.5"
  }
 },
 "nbformat": 4,
 "nbformat_minor": 4
}
