{
 "cells": [
  {
   "cell_type": "code",
   "execution_count": 2,
   "metadata": {
    "scrolled": true
   },
   "outputs": [
    {
     "name": "stdout",
     "output_type": "stream",
     "text": [
      "python's hello, world!\n",
      "python's\n",
      "hello, world!\n",
      "                hello, python!!\n",
      "\n",
      "\n",
      "Hello, \"World!\"\n",
      "\n",
      "abc\n",
      "def\n",
      "\"ghi\"\n",
      "\n",
      "abc\"def\"ghi\n",
      "python's string\n",
      "abc'def'ghi\ttest\n",
      "\\workspaces\\workspace_python\n",
      "\\workspaces\\workspace_python\n",
      "hello,python!\n",
      "hello,hello,hello,python!\n"
     ]
    }
   ],
   "source": [
    "# 문자\n",
    "# single quotation 과 double quotation은 차이 없음\n",
    "\n",
    "# single * 1\n",
    "a = 'python\\'s hello, world!'\n",
    "print(a)\n",
    "\n",
    "# single * 3\n",
    "b = '''python's\n",
    "hello, world!\n",
    "                hello, python!!\n",
    "\n",
    "'''\n",
    "print(b)\n",
    "\n",
    "# double * 1\n",
    "c = \"Hello, \\\"World!\\\"\"\n",
    "print(c)\n",
    "\n",
    "#double * 3\n",
    "d = \"\"\"\n",
    "abc\n",
    "def\n",
    "\"ghi\"\n",
    "\"\"\"\n",
    "print(d)\n",
    "\n",
    "# 혼합\n",
    "e = 'abc\"def\"ghi\\npython\\'s string'\n",
    "print(e)\n",
    "f = \"abc'def'ghi\\ttest\"\n",
    "print(f)\n",
    "# r : raw string(\\를 문자로 인식)\n",
    "g = r\"\\workspaces\\workspace_python\"\n",
    "h = \"\\workspaces\\workspace_python\"\n",
    "print(g)\n",
    "print(h)\n",
    "\n",
    "# 문자열 더하기, 곱하기\n",
    "str01 = 'hello,'\n",
    "str02 = 'python!'\n",
    "print(str01 + str02)\n",
    "print(str01 * 3 + str02)"
   ]
  },
  {
   "cell_type": "code",
   "execution_count": null,
   "metadata": {},
   "outputs": [],
   "source": []
  }
 ],
 "metadata": {
  "kernelspec": {
   "display_name": "Python 3",
   "language": "python",
   "name": "python3"
  },
  "language_info": {
   "codemirror_mode": {
    "name": "ipython",
    "version": 3
   },
   "file_extension": ".py",
   "mimetype": "text/x-python",
   "name": "python",
   "nbconvert_exporter": "python",
   "pygments_lexer": "ipython3",
   "version": "3.8.5"
  }
 },
 "nbformat": 4,
 "nbformat_minor": 4
}
